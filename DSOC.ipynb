{
 "cells": [
  {
   "cell_type": "code",
   "execution_count": 23,
   "metadata": {},
   "outputs": [],
   "source": [
    "from tinydb import TinyDB, Query\n",
    "import numpy as np\n",
    "import os.path"
   ]
  },
  {
   "cell_type": "code",
   "execution_count": 86,
   "metadata": {},
   "outputs": [],
   "source": [
    "def inner_trellis(file,m):\n",
    "    if(os.path.isfile(file)):\n",
    "        return TinyDB(file)\n",
    "    else:\n",
    "        trel = TinyDB(file)\n",
    "        query = Query()\n",
    "        if(not (len(trel.search(query.init.exists())) == m*2)):\n",
    "            os.remove(file)\n",
    "            trel = TinyDB(file)\n",
    "            logm = int(np.log2(m))\n",
    "            for inp in range(m):\n",
    "                A = ([int(j) for j in format(inp,'#0'+str(logm + 2) + 'b')[2:]])\n",
    "                for si in range(2):\n",
    "                    PPM = si\n",
    "                    for i in range(len(A)):\n",
    "                        PPM = 2*PPM*(int(i%logm != 0)) + (PPM & 1 ^ A[i])\n",
    "                        if i%logm == (logm - 1):\n",
    "                            trel.insert(\n",
    "                                {\"initial\":tuple([si]),\n",
    "                                 \"terminal\":tuple([PPM&1]),\n",
    "                                 \"input\":tuple(A),\n",
    "                                 \"output\":tuple([int(j == PPM) for j in range(m)])\n",
    "                                })\n",
    "                            PPM = PPM & 1\n",
    "        return trel"
   ]
  },
  {
   "cell_type": "code",
   "execution_count": 25,
   "metadata": {},
   "outputs": [],
   "source": [
    "def outer_trellis(file,rate):\n",
    "    if(os.path.isfile(file)):\n",
    "        return TinyDB(file)\n",
    "    else:\n",
    "        trel = TinyDB(file)\n",
    "        for si in [[i,j] for i in range(2) for j in range(2)]:\n",
    "            out = [None,None];\n",
    "            for inp in range(2):\n",
    "                out[0] = inp ^ si[0]\n",
    "                out[1] = inp ^ si[0] ^ si[1]\n",
    "                trel.insert({\"initial\":si,\n",
    "                             \"terminal\":[inp,si[0]],\n",
    "                             \"input\":[inp],\n",
    "                             \"output\":out})\n",
    "        return trel"
   ]
  },
  {
   "cell_type": "code",
   "execution_count": 27,
   "metadata": {},
   "outputs": [],
   "source": [
    "inner = inner_trellis(\"inner_trellis.json\",16)\n",
    "outer = outer_trellis(\"outer_trellis.json\",1)"
   ]
  },
  {
   "cell_type": "code",
   "execution_count": 81,
   "metadata": {},
   "outputs": [],
   "source": [
    "def to_string(x):\n",
    "    return ''.join([str(int(i)) for i in x])\n",
    "def ungroup(U):\n",
    "    a = []\n",
    "    for i in U:\n",
    "        for j in i:\n",
    "            a.append(j)\n",
    "    return a"
   ]
  },
  {
   "cell_type": "code",
   "execution_count": 87,
   "metadata": {},
   "outputs": [],
   "source": [
    "def encode(U,trellis):\n",
    "    query = Query()\n",
    "    temp = trellis.search(query.initial.exists())[0]\n",
    "    schema = {\"initial\": len(temp[\"initial\"]),\n",
    "             \"terminal\": len(temp[\"terminal\"]),\n",
    "             \"input\":len(temp[\"input\"]),\n",
    "             \"output\": len(temp[\"output\"])}\n",
    "    msglen = len(U)\n",
    "    initial = [0 for i in range(schema[\"initial\"])]\n",
    "    output = []\n",
    "    for i in range(int(msglen/schema[\"input\"])):\n",
    "        edge = trellis.search(\n",
    "            (query.initial == initial) & \n",
    "            (query.input == U[i*schema[\"input\"]:(i+1)*schema[\"input\"]]))\n",
    "        assert(len(edge) == 1)\n",
    "        output.append(edge[0][\"output\"])\n",
    "        initial = edge[0][\"terminal\"]\n",
    "    return ungroup(output)"
   ]
  },
  {
   "cell_type": "code",
   "execution_count": 88,
   "metadata": {},
   "outputs": [],
   "source": [
    "def channel(C,Ks,Kb):\n",
    "    Y = [np.random.poisson(Kb) + np.random.poisson(Ks) if C[i] == 1 \n",
    "         else np.random.poisson(Kb) for i in range(len(C))]\n",
    "    return Y"
   ]
  },
  {
   "cell_type": "code",
   "execution_count": 89,
   "metadata": {},
   "outputs": [],
   "source": [
    "def interleave(X):\n",
    "    pi = interleaver_map(len(X))\n",
    "    return [X[i] for i in pi]\n",
    "def interleaver_map(N):\n",
    "    pi_map = [None for i in range(N)]\n",
    "    pi_map[0] = 0\n",
    "    b = 221\n",
    "    for i in range(1,N):\n",
    "        pi_map[i] = (pi_map[i-1] + b)%N\n",
    "        b = (b+420)%N\n",
    "    return pi_map"
   ]
  },
  {
   "cell_type": "code",
   "execution_count": 90,
   "metadata": {},
   "outputs": [],
   "source": [
    "def quantize(n,C=8):\n",
    "    return -127 if (C*n<-127) else 127 if (C*n>127) else int(C*n)\n",
    "def many_max_star(L):\n",
    "    val = L[0]\n",
    "    for i in range(1,len(L)):\n",
    "        val = max_star(val,L[i])\n",
    "    return val\n",
    "def max_star(A,B):\n",
    "    return max(A,B) + max_star_LUT(abs(A-B))\n",
    "def max_star_LUT(i):\n",
    "    a = { 0:6, 1:5,  2:5,  3:4,  4:4,  5:3,  6:3,  7:3,  8:3,  9:2, 10:2, \n",
    "         11:2,12:2, 13:1, 14:1, 15:1, 16:1, 17:1, 18:1, 19:1, 20:1, 21:1}\n",
    "    if i < 22:\n",
    "        return a[i]\n",
    "    else:\n",
    "        return 0"
   ]
  },
  {
   "cell_type": "code",
   "execution_count": 91,
   "metadata": {},
   "outputs": [],
   "source": [
    "def calc_gamma(Y,LLR,trellis,Ks,Kb):\n",
    "    query = Query()\n",
    "    m = len(trellis.all()[0][\"output\"])\n",
    "    gamma = [{} for i in range(int(len(Y)/m))]\n",
    "    logm = int(np.log2(m))\n",
    "    for i in range(int(len(Y)/m)):\n",
    "        y = Y[i*m:i*m+m]\n",
    "        llr = LLR[i*logm:i*logm+logm]\n",
    "        for edge in trellis.all():\n",
    "            gamma[i][edge.doc_id] = quantize(gamma_one(y,Ks,Kb,edge[\"output\"]) + \n",
    "                                     gamma_two(llr,edge[\"input\"]))\n",
    "    return gamma\n",
    "def gamma_one(Y,Ks,Kb,output):\n",
    "    c = output.index(max(output))\n",
    "    return Y[c]*np.log(1+Ks/Kb)\n",
    "def gamma_two(LLR,A):\n",
    "    total = 0\n",
    "    for i in range(len(A)):\n",
    "        total += LLR[i]*(-1)**(A[i]+1)\n",
    "    return total"
   ]
  },
  {
   "cell_type": "code",
   "execution_count": 92,
   "metadata": {},
   "outputs": [],
   "source": [
    "def calc_sgamma(gam,trellis):\n",
    "    m = len(trellis.all()[0][\"output\"])\n",
    "    sgam = [{} for i in range(len(gam))]\n",
    "    for i in range(len(gam)):\n",
    "        for edge in gam[i]:\n",
    "            val = trellis.get(doc_id = edge)\n",
    "            transition = tuple(val[\"initial\"] + val[\"terminal\"])\n",
    "            if transition in sgam[i]:\n",
    "                sgam[i][transition] = max_star(gam[i][edge],sgam[i][transition])\n",
    "            else:\n",
    "                sgam[i][transition] = gam[i][edge]\n",
    "    return sgam"
   ]
  },
  {
   "cell_type": "code",
   "execution_count": 93,
   "metadata": {},
   "outputs": [],
   "source": [
    "def calc_alpha(sgam,init_alpha,trellis):\n",
    "    m = len(trellis.all()[0][\"output\"])\n",
    "    alph = [{} for i in range(len(sgam))]\n",
    "    alph[0] = {tuple([i]):init_alpha[i] for i in init_alpha.keys()}\n",
    "    states = init_alpha.keys()\n",
    "    for i in range(1,len(sgam)):\n",
    "        for outstate in states:\n",
    "            for instate in states:\n",
    "                if outstate in alph[i]:\n",
    "                    alph[i][tuple([outstate])] = max_star(alph[i-1][tuple([instate])]+\n",
    "                                                 sgam[i][tuple([instate]+[outstate])],\n",
    "                                                 alph[i][tuple([outstate])])\n",
    "                else:\n",
    "                    alph[i][tuple([outstate])] = alph[i-1][tuple([instate])]+sgam[i][tuple([instate]+[outstate])]\n",
    "            alph[i][tuple([outstate])] = quantize(alph[i][tuple([outstate])])\n",
    "    return alph"
   ]
  },
  {
   "cell_type": "code",
   "execution_count": 94,
   "metadata": {},
   "outputs": [],
   "source": [
    "def calc_beta(sgam,fin_beta,trellis):\n",
    "    m = len(trellis.all()[0][\"output\"])\n",
    "    beta = [{} for i in range(len(sgam))]\n",
    "    beta[-1] = {tuple([i]):fin_beta[i] for i in fin_beta.keys()}\n",
    "    states = fin_beta.keys()\n",
    "    for i in range(len(sgam)-1,0,-1):\n",
    "        for instate in states:\n",
    "            for outstate in states:\n",
    "                if instate in beta[i-1]:\n",
    "                    beta[i-1][tuple([instate])] = max_star(beta[i][tuple([outstate])]+\n",
    "                                                 sgam[i][tuple([instate] + [outstate])],\n",
    "                                                 beta[i-1][tuple([instate])])\n",
    "                else:\n",
    "                    beta[i-1][tuple([instate])] = beta[i][tuple([outstate])] + sgam[i][tuple([instate] + [outstate])]\n",
    "    return beta"
   ]
  },
  {
   "cell_type": "code",
   "execution_count": 95,
   "metadata": {},
   "outputs": [],
   "source": [
    "def calc_sigma(alpha,beta,gamma,trellis):\n",
    "    sigma = [{} for i in range(len(gamma))]\n",
    "    for i in range(1,len(gam)):\n",
    "        for edge in gam[i]:\n",
    "            val = trellis.get(doc_id = edge)\n",
    "            sigma[i][edge] = (alpha[i-1][tuple(val[\"initial\"])] + \n",
    "                             gamma[i][edge] + \n",
    "                             beta[i][tuple(val[\"terminal\"])])\n",
    "    return sigma"
   ]
  },
  {
   "cell_type": "code",
   "execution_count": 96,
   "metadata": {},
   "outputs": [],
   "source": [
    "r = [1,2]\n",
    "m = 16\n",
    "Ks = 3\n",
    "Kb = .001\n",
    "U = [0,1,0,0,1,0,0,0,0,1,1,0,1,0,0,1,0,0,1,0,0,0,0,1,0,0]\n",
    "X = encode(U,outer_trellis(\"outer_trellis.json\",r))\n",
    "A = interleave(X)\n",
    "C = encode(A,inner_trellis(\"inner_trellis.json\",m))\n",
    "Y = channel(C,Ks,Kb)"
   ]
  },
  {
   "cell_type": "code",
   "execution_count": 97,
   "metadata": {},
   "outputs": [
    {
     "ename": "AttributeError",
     "evalue": "'Trellis' object has no attribute 'all'",
     "output_type": "error",
     "traceback": [
      "\u001b[0;31m---------------------------------------------------------------------------\u001b[0m",
      "\u001b[0;31mAttributeError\u001b[0m                            Traceback (most recent call last)",
      "\u001b[0;32m<ipython-input-97-ba95c3c096d8>\u001b[0m in \u001b[0;36m<module>\u001b[0;34m()\u001b[0m\n\u001b[1;32m      2\u001b[0m \u001b[0mLLRAin\u001b[0m \u001b[0;34m=\u001b[0m \u001b[0;34m[\u001b[0m\u001b[0;36m0\u001b[0m \u001b[0;32mfor\u001b[0m \u001b[0mi\u001b[0m \u001b[0;32min\u001b[0m \u001b[0mrange\u001b[0m\u001b[0;34m(\u001b[0m\u001b[0mlen\u001b[0m\u001b[0;34m(\u001b[0m\u001b[0mU\u001b[0m\u001b[0;34m)\u001b[0m\u001b[0;34m*\u001b[0m\u001b[0mr\u001b[0m\u001b[0;34m[\u001b[0m\u001b[0;36m1\u001b[0m\u001b[0;34m]\u001b[0m\u001b[0;34m)\u001b[0m\u001b[0;34m]\u001b[0m\u001b[0;34m\u001b[0m\u001b[0m\n\u001b[1;32m      3\u001b[0m \u001b[0mab_init\u001b[0m \u001b[0;34m=\u001b[0m \u001b[0;34m{\u001b[0m\u001b[0;36m0\u001b[0m\u001b[0;34m:\u001b[0m\u001b[0;36m0\u001b[0m\u001b[0;34m,\u001b[0m\u001b[0;36m1\u001b[0m\u001b[0;34m:\u001b[0m\u001b[0;34m-\u001b[0m\u001b[0;36m127\u001b[0m\u001b[0;34m}\u001b[0m\u001b[0;34m\u001b[0m\u001b[0m\n\u001b[0;32m----> 4\u001b[0;31m \u001b[0mgam\u001b[0m \u001b[0;34m=\u001b[0m \u001b[0mcalc_gamma\u001b[0m\u001b[0;34m(\u001b[0m\u001b[0mY\u001b[0m\u001b[0;34m,\u001b[0m\u001b[0mLLRAin\u001b[0m\u001b[0;34m,\u001b[0m\u001b[0minner\u001b[0m\u001b[0;34m,\u001b[0m\u001b[0mKs\u001b[0m\u001b[0;34m,\u001b[0m\u001b[0mKb\u001b[0m\u001b[0;34m)\u001b[0m\u001b[0;34m\u001b[0m\u001b[0m\n\u001b[0m\u001b[1;32m      5\u001b[0m \u001b[0msgam\u001b[0m \u001b[0;34m=\u001b[0m \u001b[0mcalc_sgamma\u001b[0m\u001b[0;34m(\u001b[0m\u001b[0mgam\u001b[0m\u001b[0;34m,\u001b[0m\u001b[0minner\u001b[0m\u001b[0;34m)\u001b[0m\u001b[0;34m\u001b[0m\u001b[0m\n\u001b[1;32m      6\u001b[0m \u001b[0malph\u001b[0m \u001b[0;34m=\u001b[0m \u001b[0mcalc_alpha\u001b[0m\u001b[0;34m(\u001b[0m\u001b[0msgam\u001b[0m\u001b[0;34m,\u001b[0m\u001b[0mab_init\u001b[0m\u001b[0;34m,\u001b[0m\u001b[0minner\u001b[0m\u001b[0;34m)\u001b[0m\u001b[0;34m\u001b[0m\u001b[0m\n",
      "\u001b[0;32m<ipython-input-91-41102df4f7c7>\u001b[0m in \u001b[0;36mcalc_gamma\u001b[0;34m(Y, LLR, trellis, Ks, Kb)\u001b[0m\n\u001b[1;32m      1\u001b[0m \u001b[0;32mdef\u001b[0m \u001b[0mcalc_gamma\u001b[0m\u001b[0;34m(\u001b[0m\u001b[0mY\u001b[0m\u001b[0;34m,\u001b[0m\u001b[0mLLR\u001b[0m\u001b[0;34m,\u001b[0m\u001b[0mtrellis\u001b[0m\u001b[0;34m,\u001b[0m\u001b[0mKs\u001b[0m\u001b[0;34m,\u001b[0m\u001b[0mKb\u001b[0m\u001b[0;34m)\u001b[0m\u001b[0;34m:\u001b[0m\u001b[0;34m\u001b[0m\u001b[0m\n\u001b[1;32m      2\u001b[0m     \u001b[0mquery\u001b[0m \u001b[0;34m=\u001b[0m \u001b[0mQuery\u001b[0m\u001b[0;34m(\u001b[0m\u001b[0;34m)\u001b[0m\u001b[0;34m\u001b[0m\u001b[0m\n\u001b[0;32m----> 3\u001b[0;31m     \u001b[0mm\u001b[0m \u001b[0;34m=\u001b[0m \u001b[0mlen\u001b[0m\u001b[0;34m(\u001b[0m\u001b[0mtrellis\u001b[0m\u001b[0;34m.\u001b[0m\u001b[0mall\u001b[0m\u001b[0;34m(\u001b[0m\u001b[0;34m)\u001b[0m\u001b[0;34m[\u001b[0m\u001b[0;36m0\u001b[0m\u001b[0;34m]\u001b[0m\u001b[0;34m[\u001b[0m\u001b[0;34m\"output\"\u001b[0m\u001b[0;34m]\u001b[0m\u001b[0;34m)\u001b[0m\u001b[0;34m\u001b[0m\u001b[0m\n\u001b[0m\u001b[1;32m      4\u001b[0m     \u001b[0mgamma\u001b[0m \u001b[0;34m=\u001b[0m \u001b[0;34m[\u001b[0m\u001b[0;34m{\u001b[0m\u001b[0;34m}\u001b[0m \u001b[0;32mfor\u001b[0m \u001b[0mi\u001b[0m \u001b[0;32min\u001b[0m \u001b[0mrange\u001b[0m\u001b[0;34m(\u001b[0m\u001b[0mint\u001b[0m\u001b[0;34m(\u001b[0m\u001b[0mlen\u001b[0m\u001b[0;34m(\u001b[0m\u001b[0mY\u001b[0m\u001b[0;34m)\u001b[0m\u001b[0;34m/\u001b[0m\u001b[0mm\u001b[0m\u001b[0;34m)\u001b[0m\u001b[0;34m)\u001b[0m\u001b[0;34m]\u001b[0m\u001b[0;34m\u001b[0m\u001b[0m\n\u001b[1;32m      5\u001b[0m     \u001b[0mlogm\u001b[0m \u001b[0;34m=\u001b[0m \u001b[0mint\u001b[0m\u001b[0;34m(\u001b[0m\u001b[0mnp\u001b[0m\u001b[0;34m.\u001b[0m\u001b[0mlog2\u001b[0m\u001b[0;34m(\u001b[0m\u001b[0mm\u001b[0m\u001b[0;34m)\u001b[0m\u001b[0;34m)\u001b[0m\u001b[0;34m\u001b[0m\u001b[0m\n",
      "\u001b[0;31mAttributeError\u001b[0m: 'Trellis' object has no attribute 'all'"
     ]
    }
   ],
   "source": [
    "query = Query()\n",
    "LLRAin = [0 for i in range(len(U)*r[1])]\n",
    "ab_init = {0:0,1:-127}\n",
    "gam = calc_gamma(Y,LLRAin,inner,Ks,Kb)\n",
    "sgam = calc_sgamma(gam,inner)\n",
    "alph = calc_alpha(sgam,ab_init,inner)\n",
    "beta = calc_beta(sgam,ab_init,inner)\n",
    "sigma = calc_sigma(alph,beta,gam,inner)\n"
   ]
  },
  {
   "cell_type": "code",
   "execution_count": 51,
   "metadata": {},
   "outputs": [],
   "source": [
    "class Trellis():\n",
    "    def __init__(self,edges):\n",
    "        self.edges = edges\n",
    "        self.length = len(edges)\n",
    "    def query(self,check):\n",
    "        return [self.edges[i] for i in range(self.length)\n",
    "                if all(check[j] == self.edges[i][j] for j in check)]\n",
    "    def get_edge_schema(self):\n",
    "        return {\"initial\":  len(self.edges[0][\"initial\"]),\n",
    "                \"terminal\": len(self.edges[0][\"terminal\"]),\n",
    "                \"input\":    len(self.edges[0][\"input\"]),\n",
    "                \"output\":   len(self.edges[0][\"output\"])}"
   ]
  },
  {
   "cell_type": "code",
   "execution_count": null,
   "metadata": {},
   "outputs": [],
   "source": []
  },
  {
   "cell_type": "code",
   "execution_count": null,
   "metadata": {},
   "outputs": [],
   "source": []
  },
  {
   "cell_type": "code",
   "execution_count": 19,
   "metadata": {},
   "outputs": [],
   "source": [
    "def gen_inner(m):\n",
    "    trel = []\n",
    "    logm = int(np.log2(m))\n",
    "    for inp in range(m):\n",
    "        A = ([int(j) for j in format(inp,'#0'+str(logm + 2) + 'b')[2:]])\n",
    "        for si in range(2):\n",
    "            PPM = si\n",
    "            for i in range(len(A)):\n",
    "                PPM = 2*PPM*(int(i%logm != 0)) + (PPM & 1 ^ A[i])\n",
    "                if i%logm == (logm - 1):\n",
    "                    trel.append(\n",
    "                        {\"initial\":tuple([si]),\n",
    "                         \"terminal\":tuple([PPM&1]),\n",
    "                         \"input\":tuple(A),\n",
    "                         \"output\":tuple([int(j == PPM) for j in range(m)])\n",
    "                        })\n",
    "                    PPM = PPM & 1\n",
    "    return trel"
   ]
  },
  {
   "cell_type": "code",
   "execution_count": 43,
   "metadata": {},
   "outputs": [],
   "source": [
    "def gen_outer(rate):\n",
    "    trel = []\n",
    "    for si in [[i,j] for i in range(2) for j in range(2)]:\n",
    "        out = [None,None]\n",
    "        for inp in range(2):\n",
    "            out[0] = inp ^ si[0]\n",
    "            out[1] = inp ^ si[0] ^ si[1]\n",
    "            trel.append({\"initial\":tuple(si),\n",
    "                         \"terminal\":tuple([inp,si[0]]),\n",
    "                         \"input\":tuple([inp]),\n",
    "                         \"output\":tuple(out)})\n",
    "    return trel"
   ]
  },
  {
   "cell_type": "code",
   "execution_count": 100,
   "metadata": {},
   "outputs": [],
   "source": [
    "inner = Trellis(gen_inner(16))"
   ]
  },
  {
   "cell_type": "code",
   "execution_count": 104,
   "metadata": {},
   "outputs": [],
   "source": [
    "outer = Trellis(gen_outer(1/2))"
   ]
  },
  {
   "cell_type": "code",
   "execution_count": 54,
   "metadata": {},
   "outputs": [
    {
     "data": {
      "text/plain": [
       "{'initial': 1, 'input': 4, 'output': 16, 'terminal': 1}"
      ]
     },
     "execution_count": 54,
     "metadata": {},
     "output_type": "execute_result"
    }
   ],
   "source": []
  },
  {
   "cell_type": "code",
   "execution_count": 109,
   "metadata": {},
   "outputs": [],
   "source": [
    "def encode(U,trellis):\n",
    "    schema = trellis.get_edge_schema()\n",
    "    msglen = len(U)\n",
    "    initial = tuple([0 for i in range(schema[\"initial\"])])\n",
    "    output = []\n",
    "    for i in range(int(msglen/schema[\"input\"])):\n",
    "        edge = trellis.query({\"initial\":initial,\n",
    "                              \"input\":tuple(U[i*schema[\"input\"]:(i+1)*schema[\"input\"]])})\n",
    "        assert(len(edge) == 1)\n",
    "        output.append(edge[0][\"output\"])\n",
    "        initial = edge[0][\"terminal\"]\n",
    "    return ungroup(output)"
   ]
  },
  {
   "cell_type": "code",
   "execution_count": null,
   "metadata": {},
   "outputs": [],
   "source": []
  },
  {
   "cell_type": "code",
   "execution_count": null,
   "metadata": {},
   "outputs": [],
   "source": []
  },
  {
   "cell_type": "code",
   "execution_count": null,
   "metadata": {},
   "outputs": [],
   "source": []
  },
  {
   "cell_type": "code",
   "execution_count": null,
   "metadata": {},
   "outputs": [],
   "source": []
  }
 ],
 "metadata": {
  "kernelspec": {
   "display_name": "Python 3",
   "language": "python",
   "name": "python3"
  },
  "language_info": {
   "codemirror_mode": {
    "name": "ipython",
    "version": 3
   },
   "file_extension": ".py",
   "mimetype": "text/x-python",
   "name": "python",
   "nbconvert_exporter": "python",
   "pygments_lexer": "ipython3",
   "version": "3.6.4"
  }
 },
 "nbformat": 4,
 "nbformat_minor": 2
}
