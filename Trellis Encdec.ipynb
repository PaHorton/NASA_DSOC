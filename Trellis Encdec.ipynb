{
 "cells": [
  {
   "cell_type": "code",
   "execution_count": 200,
   "metadata": {},
   "outputs": [],
   "source": [
    "from bitarray import bitarray"
   ]
  },
  {
   "cell_type": "code",
   "execution_count": 174,
   "metadata": {},
   "outputs": [],
   "source": [
    "class Trellis():\n",
    "    def __init__(self,states,inputs,outputs,gen):\n",
    "        self.states = states\n",
    "        self.inputs = inputs\n",
    "        self.outputs = outputs\n",
    "        self.forward = gen(states,inputs,outputs)\n",
    "        self.inv = self.create_inv()\n",
    "    def create_inv(self):\n",
    "        inv = {i:{j:list()for j in range(2)} for i in range(2)}\n",
    "        for start_state in range(self.states):\n",
    "            for edge in self.forward[start_state]:\n",
    "                inv[self.forward[start_state][edge][1]][start_state].append(\n",
    "                    (edge,self.forward[start_state][edge][0]))\n",
    "        return inv"
   ]
  },
  {
   "cell_type": "code",
   "execution_count": 176,
   "metadata": {},
   "outputs": [],
   "source": [
    "def outer_enc(U):\n",
    "    X = []\n",
    "    for i in range(len(U)):\n",
    "        X.append(bool(int(U[i]) ^ int(U[i-2])))\n",
    "        X.append(bool(int(U[i]) ^ int(U[i-1]) ^ int(U[i-2])))\n",
    "    return X"
   ]
  },
  {
   "cell_type": "code",
   "execution_count": 151,
   "metadata": {},
   "outputs": [],
   "source": [
    "def gen_outer(states,inputs,outputs):\n",
    "    a = {i:{j:() for j in range(inputs)} for i in range(states)}\n",
    "    for state in range(states):\n",
    "        reg1 = state & 1\n",
    "        reg2 = int(state & 2 != 0) \n",
    "        for bits in range(inputs):\n",
    "            a[state][Bitstream(bits)] = (Bitstream([bool(bits ^ reg2),bool(bits ^ reg1 ^ reg2)]),)"
   ]
  },
  {
   "cell_type": "code",
   "execution_count": null,
   "metadata": {},
   "outputs": [],
   "source": [
    "def dummy(states,inputs,outputs):\n",
    "    return {0:{(\"00\"):(0,0),(\"01\"):(1,1),(\"10\"):(3,1),(\"11\"):(2,0)},\n",
    "    1:{(\"00\"):(3,1),(\"01\"):(2,0),(\"10\"):(0,0),(\"11\"):(1,1)}}"
   ]
  },
  {
   "cell_type": "code",
   "execution_count": null,
   "metadata": {},
   "outputs": [],
   "source": []
  },
  {
   "cell_type": "code",
   "execution_count": null,
   "metadata": {},
   "outputs": [],
   "source": []
  },
  {
   "cell_type": "code",
   "execution_count": null,
   "metadata": {
    "collapsed": true
   },
   "outputs": [],
   "source": []
  }
 ],
 "metadata": {
  "kernelspec": {
   "display_name": "Python 3",
   "language": "python",
   "name": "python3"
  },
  "language_info": {
   "codemirror_mode": {
    "name": "ipython",
    "version": 3
   },
   "file_extension": ".py",
   "mimetype": "text/x-python",
   "name": "python",
   "nbconvert_exporter": "python",
   "pygments_lexer": "ipython3",
   "version": "3.6.1"
  }
 },
 "nbformat": 4,
 "nbformat_minor": 2
}
